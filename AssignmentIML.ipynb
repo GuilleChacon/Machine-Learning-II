{
 "cells": [
  {
   "cell_type": "markdown",
   "metadata": {},
   "source": [
    "## 1) Loading the Libraries\n",
    "\n",
    "Loading all the needed libraries for the project, this was done extracting all the libraries used in the Evaluation and Validation file from ML2, probably not all of the are going to be used."
   ]
  },
  {
   "cell_type": "code",
   "execution_count": 3,
   "metadata": {},
   "outputs": [
    {
     "name": "stderr",
     "output_type": "stream",
     "text": [
      "C:\\Users\\Guille\\Anaconda3\\lib\\site-packages\\sklearn\\externals\\joblib\\__init__.py:15: FutureWarning: sklearn.externals.joblib is deprecated in 0.21 and will be removed in 0.23. Please import this functionality directly from joblib, which can be installed with: pip install joblib. If this warning is raised when loading pickled models, you may need to re-serialize those models with scikit-learn 0.21+.\n",
      "  warnings.warn(msg, category=FutureWarning)\n"
     ]
    }
   ],
   "source": [
    "\n",
    "import random\n",
    "import seaborn as sns\n",
    "import pandas as pd\n",
    "import matplotlib.pyplot as plt\n",
    "import numpy as np\n",
    "\n",
    "from copy import copy\n",
    "from collections import Counter\n",
    "from dataset import Dataset as dataset\n",
    "from imblearn.under_sampling import RandomUnderSampler\n",
    "from imblearn.over_sampling import RandomOverSampler, SMOTE\n",
    "from imblearn.under_sampling import NearMiss\n",
    "from scipy.stats import kruskal\n",
    "from sklearn.linear_model import LogisticRegression\n",
    "from sklearn.model_selection import StratifiedShuffleSplit\n",
    "from sklearn.model_selection import cross_val_score, StratifiedKFold\n",
    "from sklearn.metrics import accuracy_score, f1_score, recall_score, matthews_corrcoef, precision_score\n",
    "from sklearn.pipeline import Pipeline\n",
    "from sklearn.utils import resample\n",
    "from tqdm import tqdm_notebook\n",
    "from typing import List\n"
   ]
  },
  {
   "cell_type": "markdown",
   "metadata": {},
   "source": [
    "## 2) Loading the Libraries\n",
    "\n",
    "To load the data, this date was loaded in a github repository that we will use to call the URL of the data"
   ]
  },
  {
   "cell_type": "code",
   "execution_count": 19,
   "metadata": {},
   "outputs": [],
   "source": [
    "\n",
    "URL=\"https://raw.githubusercontent.com/GuilleChacon/Machine-Learning-II/master/turnover.csv\"\n",
    "HR = dataset(URL, delimiter=',', header=0)"
   ]
  },
  {
   "cell_type": "markdown",
   "metadata": {},
   "source": [
    "## 3) Exploration of Data\n",
    "\n",
    "Perform basic operations to understand the data as is before doing some preparation"
   ]
  },
  {
   "cell_type": "code",
   "execution_count": 116,
   "metadata": {},
   "outputs": [
    {
     "data": {
      "text/html": [
       "<div>\n",
       "<style scoped>\n",
       "    .dataframe tbody tr th:only-of-type {\n",
       "        vertical-align: middle;\n",
       "    }\n",
       "\n",
       "    .dataframe tbody tr th {\n",
       "        vertical-align: top;\n",
       "    }\n",
       "\n",
       "    .dataframe thead th {\n",
       "        text-align: right;\n",
       "    }\n",
       "</style>\n",
       "<table border=\"1\" class=\"dataframe\">\n",
       "  <thead>\n",
       "    <tr style=\"text-align: right;\">\n",
       "      <th></th>\n",
       "      <th>satisfaction_level</th>\n",
       "      <th>last_evaluation</th>\n",
       "      <th>number_project</th>\n",
       "      <th>average_montly_hours</th>\n",
       "      <th>time_spend_company</th>\n",
       "      <th>Work_accident</th>\n",
       "      <th>left</th>\n",
       "      <th>promotion_last_5years</th>\n",
       "      <th>sales</th>\n",
       "      <th>salary</th>\n",
       "    </tr>\n",
       "  </thead>\n",
       "  <tbody>\n",
       "    <tr>\n",
       "      <td>0</td>\n",
       "      <td>0.38</td>\n",
       "      <td>0.53</td>\n",
       "      <td>2.0</td>\n",
       "      <td>157.0</td>\n",
       "      <td>3.0</td>\n",
       "      <td>0.0</td>\n",
       "      <td>1.0</td>\n",
       "      <td>0.0</td>\n",
       "      <td>sales</td>\n",
       "      <td>low</td>\n",
       "    </tr>\n",
       "    <tr>\n",
       "      <td>1</td>\n",
       "      <td>0.80</td>\n",
       "      <td>0.86</td>\n",
       "      <td>5.0</td>\n",
       "      <td>262.0</td>\n",
       "      <td>6.0</td>\n",
       "      <td>0.0</td>\n",
       "      <td>1.0</td>\n",
       "      <td>0.0</td>\n",
       "      <td>sales</td>\n",
       "      <td>medium</td>\n",
       "    </tr>\n",
       "    <tr>\n",
       "      <td>2</td>\n",
       "      <td>0.11</td>\n",
       "      <td>0.88</td>\n",
       "      <td>7.0</td>\n",
       "      <td>272.0</td>\n",
       "      <td>4.0</td>\n",
       "      <td>0.0</td>\n",
       "      <td>1.0</td>\n",
       "      <td>0.0</td>\n",
       "      <td>sales</td>\n",
       "      <td>medium</td>\n",
       "    </tr>\n",
       "    <tr>\n",
       "      <td>3</td>\n",
       "      <td>0.72</td>\n",
       "      <td>0.87</td>\n",
       "      <td>5.0</td>\n",
       "      <td>223.0</td>\n",
       "      <td>5.0</td>\n",
       "      <td>0.0</td>\n",
       "      <td>1.0</td>\n",
       "      <td>0.0</td>\n",
       "      <td>sales</td>\n",
       "      <td>low</td>\n",
       "    </tr>\n",
       "    <tr>\n",
       "      <td>4</td>\n",
       "      <td>0.37</td>\n",
       "      <td>0.52</td>\n",
       "      <td>2.0</td>\n",
       "      <td>159.0</td>\n",
       "      <td>3.0</td>\n",
       "      <td>0.0</td>\n",
       "      <td>1.0</td>\n",
       "      <td>0.0</td>\n",
       "      <td>sales</td>\n",
       "      <td>low</td>\n",
       "    </tr>\n",
       "    <tr>\n",
       "      <td>5</td>\n",
       "      <td>0.41</td>\n",
       "      <td>0.50</td>\n",
       "      <td>2.0</td>\n",
       "      <td>153.0</td>\n",
       "      <td>3.0</td>\n",
       "      <td>0.0</td>\n",
       "      <td>1.0</td>\n",
       "      <td>0.0</td>\n",
       "      <td>sales</td>\n",
       "      <td>low</td>\n",
       "    </tr>\n",
       "    <tr>\n",
       "      <td>6</td>\n",
       "      <td>0.10</td>\n",
       "      <td>0.77</td>\n",
       "      <td>6.0</td>\n",
       "      <td>247.0</td>\n",
       "      <td>4.0</td>\n",
       "      <td>0.0</td>\n",
       "      <td>1.0</td>\n",
       "      <td>0.0</td>\n",
       "      <td>sales</td>\n",
       "      <td>low</td>\n",
       "    </tr>\n",
       "    <tr>\n",
       "      <td>7</td>\n",
       "      <td>0.92</td>\n",
       "      <td>0.85</td>\n",
       "      <td>5.0</td>\n",
       "      <td>259.0</td>\n",
       "      <td>5.0</td>\n",
       "      <td>0.0</td>\n",
       "      <td>1.0</td>\n",
       "      <td>0.0</td>\n",
       "      <td>sales</td>\n",
       "      <td>low</td>\n",
       "    </tr>\n",
       "    <tr>\n",
       "      <td>8</td>\n",
       "      <td>0.89</td>\n",
       "      <td>1.00</td>\n",
       "      <td>5.0</td>\n",
       "      <td>224.0</td>\n",
       "      <td>5.0</td>\n",
       "      <td>0.0</td>\n",
       "      <td>1.0</td>\n",
       "      <td>0.0</td>\n",
       "      <td>sales</td>\n",
       "      <td>low</td>\n",
       "    </tr>\n",
       "    <tr>\n",
       "      <td>9</td>\n",
       "      <td>0.42</td>\n",
       "      <td>0.53</td>\n",
       "      <td>2.0</td>\n",
       "      <td>142.0</td>\n",
       "      <td>3.0</td>\n",
       "      <td>0.0</td>\n",
       "      <td>1.0</td>\n",
       "      <td>0.0</td>\n",
       "      <td>sales</td>\n",
       "      <td>low</td>\n",
       "    </tr>\n",
       "  </tbody>\n",
       "</table>\n",
       "</div>"
      ],
      "text/plain": [
       "   satisfaction_level  last_evaluation  number_project  average_montly_hours  \\\n",
       "0                0.38             0.53             2.0                 157.0   \n",
       "1                0.80             0.86             5.0                 262.0   \n",
       "2                0.11             0.88             7.0                 272.0   \n",
       "3                0.72             0.87             5.0                 223.0   \n",
       "4                0.37             0.52             2.0                 159.0   \n",
       "5                0.41             0.50             2.0                 153.0   \n",
       "6                0.10             0.77             6.0                 247.0   \n",
       "7                0.92             0.85             5.0                 259.0   \n",
       "8                0.89             1.00             5.0                 224.0   \n",
       "9                0.42             0.53             2.0                 142.0   \n",
       "\n",
       "   time_spend_company  Work_accident  left  promotion_last_5years  sales  \\\n",
       "0                 3.0            0.0   1.0                    0.0  sales   \n",
       "1                 6.0            0.0   1.0                    0.0  sales   \n",
       "2                 4.0            0.0   1.0                    0.0  sales   \n",
       "3                 5.0            0.0   1.0                    0.0  sales   \n",
       "4                 3.0            0.0   1.0                    0.0  sales   \n",
       "5                 3.0            0.0   1.0                    0.0  sales   \n",
       "6                 4.0            0.0   1.0                    0.0  sales   \n",
       "7                 5.0            0.0   1.0                    0.0  sales   \n",
       "8                 5.0            0.0   1.0                    0.0  sales   \n",
       "9                 3.0            0.0   1.0                    0.0  sales   \n",
       "\n",
       "   salary  \n",
       "0     low  \n",
       "1  medium  \n",
       "2  medium  \n",
       "3     low  \n",
       "4     low  \n",
       "5     low  \n",
       "6     low  \n",
       "7     low  \n",
       "8     low  \n",
       "9     low  "
      ]
     },
     "execution_count": 116,
     "metadata": {},
     "output_type": "execute_result"
    }
   ],
   "source": [
    "HR.features.head(10)"
   ]
  },
  {
   "cell_type": "code",
   "execution_count": 124,
   "metadata": {},
   "outputs": [
    {
     "name": "stdout",
     "output_type": "stream",
     "text": [
      "10 Features. 14999 Samples\n",
      "Available types: [dtype('float64') dtype('O')]\n",
      "  · 2 categorical features\n",
      "  · 8 numerical features\n",
      "  · 0 categorical features with NAs\n",
      "  · 0 numerical features with NAs\n",
      "  · 10 Complete features\n",
      "--\n",
      "Target: Not set\n"
     ]
    }
   ],
   "source": [
    "HR.describe()"
   ]
  },
  {
   "cell_type": "code",
   "execution_count": 129,
   "metadata": {},
   "outputs": [
    {
     "name": "stdout",
     "output_type": "stream",
     "text": [
      "Features Summary (all):\n",
      "'satisfaction_level'   : float64    Min.(0.09) 1stQ(0.44) Med.(0.64) Mean(0.61) 3rdQ(0.82) Max.(1.0)\n",
      "'last_evaluation'      : float64    Min.(0.36) 1stQ(0.56) Med.(0.72) Mean(0.71) 3rdQ(0.87) Max.(1.0)\n",
      "'number_project'       : float64    Min.(2.0) 1stQ(3.0) Med.(4.0) Mean(3.80) 3rdQ(5.0) Max.(7.0)\n",
      "'average_montly_hours' : float64    Min.(96.0) 1stQ(156.) Med.(200.) Mean(201.) 3rdQ(245.) Max.(310.)\n",
      "'time_spend_company'   : float64    Min.(2.0) 1stQ(3.0) Med.(3.0) Mean(3.49) 3rdQ(4.0) Max.(10.0)\n",
      "'Work_accident'        : float64    Min.(0.0) 1stQ(0.0) Med.(0.0) Mean(0.14) 3rdQ(0.0) Max.(1.0)\n",
      "'left'                 : object     2 categs. '1.0'(11428, 0.7619) '0.0'(3571, 0.2381) \n",
      "'promotion_last_5years': float64    Min.(0.0) 1stQ(0.0) Med.(0.0) Mean(0.02) 3rdQ(0.0) Max.(1.0)\n",
      "'sales'                : object     10 categs. 'sales'(4140, 0.2760) 'accounting'(2720, 0.1813) 'hr'(2229, 0.1486) 'technical'(1227, 0.0818) ...\n",
      "'salary'               : object     3 categs. 'low'(7316, 0.4878) 'medium'(6446, 0.4298) 'high'(1237, 0.0825) \n"
     ]
    }
   ],
   "source": [
    "HR.summary()"
   ]
  },
  {
   "cell_type": "code",
   "execution_count": 155,
   "metadata": {},
   "outputs": [
    {
     "data": {
      "image/png": "[encoded data removed]",
      "text/plain": [
       "<Figure size 432x288 with 1 Axes>"
      ]
     },
     "metadata": {
      "needs_background": "light"
     },
     "output_type": "display_data"
    },
    {
     "data": {
      "image/png": "[encoded data removed]",
      "text/plain": [
       "<Figure size 432x288 with 1 Axes>"
      ]
     },
     "metadata": {
      "needs_background": "light"
     },
     "output_type": "display_data"
    }
   ],
   "source": [
    "# Plotting the distribution of the categorical variables\n",
    "\n",
    "for i in HR.categorical_features:\n",
    "    plot = HR.features[i].value_counts().plot(kind='barh')\n",
    "    plt.title(i)\n",
    "    plt.show()"
   ]
  },
  {
   "cell_type": "code",
   "execution_count": 57,
   "metadata": {
    "scrolled": false
   },
   "outputs": [
    {
     "data": {
      "image/png": "[encoded data removed]",
      "text/plain": [
       "<Figure size 432x288 with 1 Axes>"
      ]
     },
     "metadata": {
      "needs_background": "light"
     },
     "output_type": "display_data"
    },
    {
     "data": {
      "image/png": "[encoded data removed]",
      "text/plain": [
       "<Figure size 432x288 with 1 Axes>"
      ]
     },
     "metadata": {
      "needs_background": "light"
     },
     "output_type": "display_data"
    },
    {
     "data": {
      "image/png": "[encoded data removed]",
      "text/plain": [
       "<Figure size 432x288 with 1 Axes>"
      ]
     },
     "metadata": {
      "needs_background": "light"
     },
     "output_type": "display_data"
    },
    {
     "data": {
      "image/png": "[encoded data removed]",
      "text/plain": [
       "<Figure size 432x288 with 1 Axes>"
      ]
     },
     "metadata": {
      "needs_background": "light"
     },
     "output_type": "display_data"
    },
    {
     "data": {
      "image/png": "[encoded data removed]",
      "text/plain": [
       "<Figure size 432x288 with 1 Axes>"
      ]
     },
     "metadata": {
      "needs_background": "light"
     },
     "output_type": "display_data"
    },
    {
     "data": {
      "image/png": "[encoded data removed]",
      "text/plain": [
       "<Figure size 432x288 with 1 Axes>"
      ]
     },
     "metadata": {
      "needs_background": "light"
     },
     "output_type": "display_data"
    },
    {
     "data": {
      "image/png": "[encoded data removed]",
      "text/plain": [
       "<Figure size 432x288 with 1 Axes>"
      ]
     },
     "metadata": {
      "needs_background": "light"
     },
     "output_type": "display_data"
    },
    {
     "data": {
      "image/png": "[encoded data removed]",
      "text/plain": [
       "<Figure size 432x288 with 1 Axes>"
      ]
     },
     "metadata": {
      "needs_background": "light"
     },
     "output_type": "display_data"
    }
   ],
   "source": [
    "#Plotting the Histogram for each numerical feature\n",
    "\n",
    "for i in HR.numerical_features:\n",
    "    HR.features.hist(i)"
   ]
  },
  {
   "cell_type": "code",
   "execution_count": 59,
   "metadata": {},
   "outputs": [
    {
     "data": {
      "text/plain": [
       "[]"
      ]
     },
     "execution_count": 59,
     "metadata": {},
     "output_type": "execute_result"
    }
   ],
   "source": [
    "#Checking for Null Values\n",
    "\n",
    "HR.nas()"
   ]
  },
  {
   "cell_type": "code",
   "execution_count": 6,
   "metadata": {},
   "outputs": [
    {
     "data": {
      "text/plain": [
       "(['last_evaluation',\n",
       "  'number_project',\n",
       "  'average_montly_hours',\n",
       "  'time_spend_company',\n",
       "  'left'],\n",
       "                        satisfaction_level  last_evaluation  number_project  \\\n",
       " satisfaction_level               1.000000         0.162407        0.005786   \n",
       " last_evaluation                  0.162407         1.000000        0.350399   \n",
       " number_project                   0.005786         0.350399        1.000000   \n",
       " average_montly_hours             0.062000         0.342061        0.397855   \n",
       " time_spend_company               0.139428         0.161154        0.251971   \n",
       " Work_accident                    0.056333         0.005767        0.002328   \n",
       " left                             0.365842         0.002440        0.019544   \n",
       " promotion_last_5years            0.022306         0.007167        0.002960   \n",
       " \n",
       "                        average_montly_hours  time_spend_company  \\\n",
       " satisfaction_level                 0.062000            0.139428   \n",
       " last_evaluation                    0.342061            0.161154   \n",
       " number_project                     0.397855            0.251971   \n",
       " average_montly_hours               1.000000            0.168750   \n",
       " time_spend_company                 0.168750            1.000000   \n",
       " Work_accident                      0.006063            0.027277   \n",
       " left                               0.046455            0.268876   \n",
       " promotion_last_5years              0.002951            0.035205   \n",
       " \n",
       "                        Work_accident      left  promotion_last_5years  \n",
       " satisfaction_level          0.056333  0.365842               0.022306  \n",
       " last_evaluation             0.005767  0.002440               0.007167  \n",
       " number_project              0.002328  0.019544               0.002960  \n",
       " average_montly_hours        0.006063  0.046455               0.002951  \n",
       " time_spend_company          0.027277  0.268876               0.035205  \n",
       " Work_accident               1.000000  0.154622               0.039245  \n",
       " left                        0.154622  1.000000               0.061788  \n",
       " promotion_last_5years       0.039245  0.061788               1.000000  )"
      ]
     },
     "execution_count": 6,
     "metadata": {},
     "output_type": "execute_result"
    }
   ],
   "source": [
    "#Calculating the Correlation between numerical Varaibles\n",
    "\n",
    "HR.numerical_correlated(threshold=0.1)"
   ]
  },
  {
   "cell_type": "code",
   "execution_count": 127,
   "metadata": {},
   "outputs": [
    {
     "data": {
      "text/plain": [
       "(['salary'],             left     sales    salary\n",
       " left    1.000000  0.072035  0.159013\n",
       " sales   0.072035  1.000000  0.150892\n",
       " salary  0.159013  0.150892  1.000000)"
      ]
     },
     "execution_count": 127,
     "metadata": {},
     "output_type": "execute_result"
    }
   ],
   "source": [
    "#Correlation between cathegorical varaibles\n",
    "\n",
    "HR.to_categorical('left').categorical_correlated(threshold=0.1)"
   ]
  },
  {
   "cell_type": "code",
   "execution_count": 134,
   "metadata": {},
   "outputs": [],
   "source": [
    "#reloading data set to avoid having \"left\" as cathergorical\n",
    "\n",
    "HR = dataset(URL, delimiter=',', header=0)"
   ]
  },
  {
   "cell_type": "markdown",
   "metadata": {},
   "source": [
    "## 3) Preparation of Data\n",
    "\n",
    "In this section we will run the code to prepare the data for the model, the final output will be a function to reset all the data into preparation mode"
   ]
  },
  {
   "cell_type": "code",
   "execution_count": 324,
   "metadata": {},
   "outputs": [],
   "source": [
    "HR = dataset(URL, delimiter=',', header=0)"
   ]
  },
  {
   "cell_type": "code",
   "execution_count": 325,
   "metadata": {},
   "outputs": [],
   "source": [
    "HR.set_target('left');"
   ]
  },
  {
   "cell_type": "code",
   "execution_count": 326,
   "metadata": {},
   "outputs": [
    {
     "data": {
      "text/plain": [
       "[]"
      ]
     },
     "execution_count": 326,
     "metadata": {},
     "output_type": "execute_result"
    }
   ],
   "source": [
    "#Check for underepresented\n",
    "\n",
    "HR.under_represented_features()"
   ]
  },
  {
   "cell_type": "code",
   "execution_count": 328,
   "metadata": {},
   "outputs": [
    {
     "data": {
      "text/plain": [
       "<dataset.dataset.Dataset at 0x19ecf0f0808>"
      ]
     },
     "execution_count": 328,
     "metadata": {},
     "output_type": "execute_result"
    }
   ],
   "source": [
    "# turn Number of Project, promotion_last_5years, Work_accident  \n",
    "## We include Time_spend_company because dsicretize doesn't work\n",
    "\n",
    "HR.to_categorical(['number_project', 'promotion_last_5years' , 'Work_accident' , 'time_spend_company'])"
   ]
  },
  {
   "cell_type": "code",
   "execution_count": 337,
   "metadata": {},
   "outputs": [
    {
     "name": "stdout",
     "output_type": "stream",
     "text": [
      "Features Summary (all):\n",
      "'satisfaction_level'   : float64    Min.(-1.8) 1stQ(-0.7) Med.(-0.0) Mean(-1.9) 3rdQ(0.83) Max.(1.81)\n",
      "'last_evaluation'      : float64    Min.(-2.0) 1stQ(-0.9) Med.(0.02) Mean(-6.5) 3rdQ(0.89) Max.(1.64)\n",
      "'number_project'       : object     6 categs. '2.0'(4365, 0.2910) '5.0'(4055, 0.2704) '7.0'(2761, 0.1841) '6.0'(2388, 0.1592) ...\n",
      "'average_montly_hours' : float64    Min.(-2.2) 1stQ(-0.8) Med.(0.02) Mean(5.83) 3rdQ(0.88) Max.(2.04)\n",
      "'time_spend_company'   : object     3 categs. 'mid'(10473, 0.6982) 'high'(3244, 0.2163) 'low'(1282, 0.0855) \n",
      "'Work_accident'        : object     2 categs. '0.0'(12830, 0.8554) '1.0'(2169, 0.1446) \n",
      "'promotion_last_5years': object     2 categs. '0.0'(14680, 0.9787) '1.0'(319, 0.0213) \n",
      "'sales'                : object     10 categs. 'sales'(4140, 0.2760) 'accounting'(2720, 0.1813) 'hr'(2229, 0.1486) 'technical'(1227, 0.0818) ...\n",
      "'salary'               : object     3 categs. 'low'(7316, 0.4878) 'medium'(6446, 0.4298) 'high'(1237, 0.0825) \n",
      "'left'                 : float64    Min.(0.0) 1stQ(0.0) Med.(0.0) Mean(0.23) 3rdQ(0.0) Max.(1.0)\n"
     ]
    }
   ],
   "source": [
    "# Binarize time spend in company didn't work so we'll use merge for Time Spend Company\n",
    "\n",
    "### HR.to_int('time_spend_company').discretize('time_spend_company', [(0, 2),(2, 5),(5, 10)], category_names=['low', 'mid', 'high']).summary()\n",
    "\n",
    "HR.merge_categories(column='time_spend_company', old_values=['0.0', '1.0', '2.0'], new_value='low')\n",
    "HR.merge_categories(column='time_spend_company', old_values=['3.0', '4.0', '5.0'], new_value='mid')\n",
    "HR.merge_categories(column='time_spend_company', old_values=['6.0', '7.0', '8.0', '9.0', '10.0'], new_value='high')\n",
    "\n",
    "HR.summary()"
   ]
  },
  {
   "cell_type": "code",
   "execution_count": 338,
   "metadata": {},
   "outputs": [
    {
     "data": {
      "text/html": [
       "<div>\n",
       "<style scoped>\n",
       "    .dataframe tbody tr th:only-of-type {\n",
       "        vertical-align: middle;\n",
       "    }\n",
       "\n",
       "    .dataframe tbody tr th {\n",
       "        vertical-align: top;\n",
       "    }\n",
       "\n",
       "    .dataframe thead th {\n",
       "        text-align: right;\n",
       "    }\n",
       "</style>\n",
       "<table border=\"1\" class=\"dataframe\">\n",
       "  <thead>\n",
       "    <tr style=\"text-align: right;\">\n",
       "      <th></th>\n",
       "      <th>satisfaction_level</th>\n",
       "      <th>last_evaluation</th>\n",
       "      <th>number_project</th>\n",
       "      <th>average_montly_hours</th>\n",
       "      <th>time_spend_company</th>\n",
       "      <th>Work_accident</th>\n",
       "      <th>promotion_last_5years</th>\n",
       "      <th>sales</th>\n",
       "      <th>salary</th>\n",
       "    </tr>\n",
       "  </thead>\n",
       "  <tbody>\n",
       "    <tr>\n",
       "      <td>0</td>\n",
       "      <td>-0.991708</td>\n",
       "      <td>-1.087970</td>\n",
       "      <td>2.0</td>\n",
       "      <td>-0.868374</td>\n",
       "      <td>mid</td>\n",
       "      <td>0.0</td>\n",
       "      <td>0.0</td>\n",
       "      <td>sales</td>\n",
       "      <td>low</td>\n",
       "    </tr>\n",
       "    <tr>\n",
       "      <td>1</td>\n",
       "      <td>0.734344</td>\n",
       "      <td>0.842035</td>\n",
       "      <td>5.0</td>\n",
       "      <td>1.198550</td>\n",
       "      <td>high</td>\n",
       "      <td>0.0</td>\n",
       "      <td>0.0</td>\n",
       "      <td>sales</td>\n",
       "      <td>medium</td>\n",
       "    </tr>\n",
       "    <tr>\n",
       "      <td>2</td>\n",
       "      <td>-1.757358</td>\n",
       "      <td>0.957707</td>\n",
       "      <td>7.0</td>\n",
       "      <td>1.378741</td>\n",
       "      <td>mid</td>\n",
       "      <td>0.0</td>\n",
       "      <td>0.0</td>\n",
       "      <td>sales</td>\n",
       "      <td>medium</td>\n",
       "    </tr>\n",
       "  </tbody>\n",
       "</table>\n",
       "</div>"
      ],
      "text/plain": [
       "   satisfaction_level  last_evaluation number_project  average_montly_hours  \\\n",
       "0           -0.991708        -1.087970            2.0             -0.868374   \n",
       "1            0.734344         0.842035            5.0              1.198550   \n",
       "2           -1.757358         0.957707            7.0              1.378741   \n",
       "\n",
       "  time_spend_company Work_accident promotion_last_5years  sales  salary  \n",
       "0                mid           0.0                   0.0  sales     low  \n",
       "1               high           0.0                   0.0  sales  medium  \n",
       "2                mid           0.0                   0.0  sales  medium  "
      ]
     },
     "execution_count": 338,
     "metadata": {},
     "output_type": "execute_result"
    }
   ],
   "source": [
    "HR.features.head(3)"
   ]
  },
  {
   "cell_type": "code",
   "execution_count": 330,
   "metadata": {},
   "outputs": [
    {
     "data": {
      "text/plain": [
       "['satisfaction_level', 'last_evaluation', 'average_montly_hours']"
      ]
     },
     "execution_count": 330,
     "metadata": {},
     "output_type": "execute_result"
    }
   ],
   "source": [
    "HR.numerical_features"
   ]
  },
  {
   "cell_type": "code",
   "execution_count": 333,
   "metadata": {},
   "outputs": [
    {
     "data": {
      "text/plain": [
       "<dataset.dataset.Dataset at 0x19ecf0f0808>"
      ]
     },
     "execution_count": 333,
     "metadata": {},
     "output_type": "execute_result"
    }
   ],
   "source": [
    "HR.fix_skewness()\n",
    "HR.scale()"
   ]
  },
  {
   "cell_type": "code",
   "execution_count": 339,
   "metadata": {},
   "outputs": [
    {
     "data": {
      "text/html": [
       "<div>\n",
       "<style scoped>\n",
       "    .dataframe tbody tr th:only-of-type {\n",
       "        vertical-align: middle;\n",
       "    }\n",
       "\n",
       "    .dataframe tbody tr th {\n",
       "        vertical-align: top;\n",
       "    }\n",
       "\n",
       "    .dataframe thead th {\n",
       "        text-align: right;\n",
       "    }\n",
       "</style>\n",
       "<table border=\"1\" class=\"dataframe\">\n",
       "  <thead>\n",
       "    <tr style=\"text-align: right;\">\n",
       "      <th></th>\n",
       "      <th>satisfaction_level</th>\n",
       "      <th>last_evaluation</th>\n",
       "      <th>number_project</th>\n",
       "      <th>average_montly_hours</th>\n",
       "      <th>time_spend_company</th>\n",
       "      <th>Work_accident</th>\n",
       "      <th>promotion_last_5years</th>\n",
       "      <th>sales</th>\n",
       "      <th>salary</th>\n",
       "    </tr>\n",
       "  </thead>\n",
       "  <tbody>\n",
       "    <tr>\n",
       "      <td>0</td>\n",
       "      <td>-0.991708</td>\n",
       "      <td>-1.087970</td>\n",
       "      <td>2.0</td>\n",
       "      <td>-0.868374</td>\n",
       "      <td>mid</td>\n",
       "      <td>0.0</td>\n",
       "      <td>0.0</td>\n",
       "      <td>sales</td>\n",
       "      <td>low</td>\n",
       "    </tr>\n",
       "    <tr>\n",
       "      <td>1</td>\n",
       "      <td>0.734344</td>\n",
       "      <td>0.842035</td>\n",
       "      <td>5.0</td>\n",
       "      <td>1.198550</td>\n",
       "      <td>high</td>\n",
       "      <td>0.0</td>\n",
       "      <td>0.0</td>\n",
       "      <td>sales</td>\n",
       "      <td>medium</td>\n",
       "    </tr>\n",
       "    <tr>\n",
       "      <td>2</td>\n",
       "      <td>-1.757358</td>\n",
       "      <td>0.957707</td>\n",
       "      <td>7.0</td>\n",
       "      <td>1.378741</td>\n",
       "      <td>mid</td>\n",
       "      <td>0.0</td>\n",
       "      <td>0.0</td>\n",
       "      <td>sales</td>\n",
       "      <td>medium</td>\n",
       "    </tr>\n",
       "    <tr>\n",
       "      <td>3</td>\n",
       "      <td>0.351037</td>\n",
       "      <td>0.899889</td>\n",
       "      <td>5.0</td>\n",
       "      <td>0.471775</td>\n",
       "      <td>mid</td>\n",
       "      <td>0.0</td>\n",
       "      <td>0.0</td>\n",
       "      <td>sales</td>\n",
       "      <td>low</td>\n",
       "    </tr>\n",
       "    <tr>\n",
       "      <td>4</td>\n",
       "      <td>-1.024570</td>\n",
       "      <td>-1.147137</td>\n",
       "      <td>2.0</td>\n",
       "      <td>-0.825205</td>\n",
       "      <td>mid</td>\n",
       "      <td>0.0</td>\n",
       "      <td>0.0</td>\n",
       "      <td>sales</td>\n",
       "      <td>low</td>\n",
       "    </tr>\n",
       "    <tr>\n",
       "      <td>5</td>\n",
       "      <td>-0.890946</td>\n",
       "      <td>-1.265603</td>\n",
       "      <td>2.0</td>\n",
       "      <td>-0.955282</td>\n",
       "      <td>mid</td>\n",
       "      <td>0.0</td>\n",
       "      <td>0.0</td>\n",
       "      <td>sales</td>\n",
       "      <td>low</td>\n",
       "    </tr>\n",
       "    <tr>\n",
       "      <td>6</td>\n",
       "      <td>-1.781070</td>\n",
       "      <td>0.319768</td>\n",
       "      <td>6.0</td>\n",
       "      <td>0.923752</td>\n",
       "      <td>mid</td>\n",
       "      <td>0.0</td>\n",
       "      <td>0.0</td>\n",
       "      <td>sales</td>\n",
       "      <td>low</td>\n",
       "    </tr>\n",
       "    <tr>\n",
       "      <td>7</td>\n",
       "      <td>1.360673</td>\n",
       "      <td>0.784147</td>\n",
       "      <td>5.0</td>\n",
       "      <td>1.144033</td>\n",
       "      <td>mid</td>\n",
       "      <td>0.0</td>\n",
       "      <td>0.0</td>\n",
       "      <td>sales</td>\n",
       "      <td>low</td>\n",
       "    </tr>\n",
       "    <tr>\n",
       "      <td>8</td>\n",
       "      <td>1.198200</td>\n",
       "      <td>1.648918</td>\n",
       "      <td>5.0</td>\n",
       "      <td>0.490931</td>\n",
       "      <td>mid</td>\n",
       "      <td>0.0</td>\n",
       "      <td>0.0</td>\n",
       "      <td>sales</td>\n",
       "      <td>low</td>\n",
       "    </tr>\n",
       "    <tr>\n",
       "      <td>9</td>\n",
       "      <td>-0.856628</td>\n",
       "      <td>-1.087970</td>\n",
       "      <td>2.0</td>\n",
       "      <td>-1.198409</td>\n",
       "      <td>mid</td>\n",
       "      <td>0.0</td>\n",
       "      <td>0.0</td>\n",
       "      <td>sales</td>\n",
       "      <td>low</td>\n",
       "    </tr>\n",
       "  </tbody>\n",
       "</table>\n",
       "</div>"
      ],
      "text/plain": [
       "   satisfaction_level  last_evaluation number_project  average_montly_hours  \\\n",
       "0           -0.991708        -1.087970            2.0             -0.868374   \n",
       "1            0.734344         0.842035            5.0              1.198550   \n",
       "2           -1.757358         0.957707            7.0              1.378741   \n",
       "3            0.351037         0.899889            5.0              0.471775   \n",
       "4           -1.024570        -1.147137            2.0             -0.825205   \n",
       "5           -0.890946        -1.265603            2.0             -0.955282   \n",
       "6           -1.781070         0.319768            6.0              0.923752   \n",
       "7            1.360673         0.784147            5.0              1.144033   \n",
       "8            1.198200         1.648918            5.0              0.490931   \n",
       "9           -0.856628        -1.087970            2.0             -1.198409   \n",
       "\n",
       "  time_spend_company Work_accident promotion_last_5years  sales  salary  \n",
       "0                mid           0.0                   0.0  sales     low  \n",
       "1               high           0.0                   0.0  sales  medium  \n",
       "2                mid           0.0                   0.0  sales  medium  \n",
       "3                mid           0.0                   0.0  sales     low  \n",
       "4                mid           0.0                   0.0  sales     low  \n",
       "5                mid           0.0                   0.0  sales     low  \n",
       "6                mid           0.0                   0.0  sales     low  \n",
       "7                mid           0.0                   0.0  sales     low  \n",
       "8                mid           0.0                   0.0  sales     low  \n",
       "9                mid           0.0                   0.0  sales     low  "
      ]
     },
     "execution_count": 339,
     "metadata": {},
     "output_type": "execute_result"
    }
   ],
   "source": [
    "HR.features.head(10)"
   ]
  },
  {
   "cell_type": "code",
   "execution_count": 340,
   "metadata": {},
   "outputs": [
    {
     "data": {
      "image/png": "[encoded data removed]",
      "text/plain": [
       "<Figure size 432x288 with 1 Axes>"
      ]
     },
     "metadata": {
      "needs_background": "light"
     },
     "output_type": "display_data"
    },
    {
     "data": {
      "image/png": "[encoded data removed]",
      "text/plain": [
       "<Figure size 432x288 with 1 Axes>"
      ]
     },
     "metadata": {
      "needs_background": "light"
     },
     "output_type": "display_data"
    },
    {
     "data": {
      "image/png": "[encoded data removed]",
      "text/plain": [
       "<Figure size 432x288 with 1 Axes>"
      ]
     },
     "metadata": {
      "needs_background": "light"
     },
     "output_type": "display_data"
    }
   ],
   "source": [
    "## Check new graphs\n",
    "\n",
    "for i in HR.numerical_features:\n",
    "    HR.features.hist(i)"
   ]
  },
  {
   "cell_type": "code",
   "execution_count": 342,
   "metadata": {},
   "outputs": [
    {
     "data": {
      "image/png": "[encoded data removed]",
      "text/plain": [
       "<Figure size 432x288 with 1 Axes>"
      ]
     },
     "metadata": {
      "needs_background": "light"
     },
     "output_type": "display_data"
    },
    {
     "data": {
      "image/png": "[encoded data removed]",
      "text/plain": [
       "<Figure size 432x288 with 1 Axes>"
      ]
     },
     "metadata": {
      "needs_background": "light"
     },
     "output_type": "display_data"
    },
    {
     "data": {
      "image/png": "[encoded data removed]",
      "text/plain": [
       "<Figure size 432x288 with 1 Axes>"
      ]
     },
     "metadata": {
      "needs_background": "light"
     },
     "output_type": "display_data"
    },
    {
     "data": {
      "image/png": "[encoded data removed]",
      "text/plain": [
       "<Figure size 432x288 with 1 Axes>"
      ]
     },
     "metadata": {
      "needs_background": "light"
     },
     "output_type": "display_data"
    },
    {
     "data": {
      "image/png": "[encoded data removed]",
      "text/plain": [
       "<Figure size 432x288 with 1 Axes>"
      ]
     },
     "metadata": {
      "needs_background": "light"
     },
     "output_type": "display_data"
    },
    {
     "data": {
      "image/png": "[encoded data removed]",
      "text/plain": [
       "<Figure size 432x288 with 1 Axes>"
      ]
     },
     "metadata": {
      "needs_background": "light"
     },
     "output_type": "display_data"
    }
   ],
   "source": [
    "for i in HR.categorical_features:\n",
    "    plot = HR.features[i].value_counts().plot(kind='barh')\n",
    "    plt.title(i)\n",
    "    plt.show()"
   ]
  },
  {
   "cell_type": "code",
   "execution_count": 343,
   "metadata": {},
   "outputs": [
    {
     "data": {
      "text/plain": [
       "['number_project',\n",
       " 'time_spend_company',\n",
       " 'Work_accident',\n",
       " 'promotion_last_5years',\n",
       " 'sales',\n",
       " 'salary']"
      ]
     },
     "execution_count": 343,
     "metadata": {},
     "output_type": "execute_result"
    }
   ],
   "source": [
    "HR.categorical_features"
   ]
  },
  {
   "cell_type": "code",
   "execution_count": 345,
   "metadata": {},
   "outputs": [
    {
     "data": {
      "text/plain": [
       "['satisfaction_level', 'last_evaluation', 'average_montly_hours']"
      ]
     },
     "execution_count": 345,
     "metadata": {},
     "output_type": "execute_result"
    }
   ],
   "source": [
    "HR.numerical_features"
   ]
  },
  {
   "cell_type": "code",
   "execution_count": 347,
   "metadata": {},
   "outputs": [],
   "source": [
    "HR.onehot_encode(HR.names('categorical'));"
   ]
  },
  {
   "cell_type": "code",
   "execution_count": 348,
   "metadata": {},
   "outputs": [
    {
     "name": "stdout",
     "output_type": "stream",
     "text": [
      "Features Summary (all):\n",
      "'average_montly_hours'     : float64    Min.(-2.2) 1stQ(-0.8) Med.(0.02) Mean(5.83) 3rdQ(0.88) Max.(2.04)\n",
      "'last_evaluation'          : float64    Min.(-2.0) 1stQ(-0.9) Med.(0.02) Mean(-6.5) 3rdQ(0.89) Max.(1.64)\n",
      "'satisfaction_level'       : float64    Min.(-1.8) 1stQ(-0.7) Med.(-0.0) Mean(-1.9) 3rdQ(0.83) Max.(1.81)\n",
      "'number_project_2.0'       : float64    Min.(0.0) 1stQ(0.0) Med.(0.0) Mean(0.15) 3rdQ(0.0) Max.(1.0)\n",
      "'number_project_3.0'       : float64    Min.(0.0) 1stQ(0.0) Med.(0.0) Mean(0.27) 3rdQ(1.0) Max.(1.0)\n",
      "'number_project_4.0'       : float64    Min.(0.0) 1stQ(0.0) Med.(0.0) Mean(0.29) 3rdQ(1.0) Max.(1.0)\n",
      "'number_project_5.0'       : float64    Min.(0.0) 1stQ(0.0) Med.(0.0) Mean(0.18) 3rdQ(0.0) Max.(1.0)\n",
      "'number_project_6.0'       : float64    Min.(0.0) 1stQ(0.0) Med.(0.0) Mean(0.07) 3rdQ(0.0) Max.(1.0)\n",
      "'number_project_7.0'       : float64    Min.(0.0) 1stQ(0.0) Med.(0.0) Mean(0.01) 3rdQ(0.0) Max.(1.0)\n",
      "'time_spend_company_high'  : float64    Min.(0.0) 1stQ(0.0) Med.(0.0) Mean(0.08) 3rdQ(0.0) Max.(1.0)\n",
      "'time_spend_company_low'   : float64    Min.(0.0) 1stQ(0.0) Med.(0.0) Mean(0.21) 3rdQ(0.0) Max.(1.0)\n",
      "'time_spend_company_mid'   : float64    Min.(0.0) 1stQ(0.0) Med.(1.0) Mean(0.69) 3rdQ(1.0) Max.(1.0)\n",
      "'Work_accident_0.0'        : float64    Min.(0.0) 1stQ(1.0) Med.(1.0) Mean(0.85) 3rdQ(1.0) Max.(1.0)\n",
      "'Work_accident_1.0'        : float64    Min.(0.0) 1stQ(0.0) Med.(0.0) Mean(0.14) 3rdQ(0.0) Max.(1.0)\n",
      "'promotion_last_5years_0.0': float64    Min.(0.0) 1stQ(1.0) Med.(1.0) Mean(0.97) 3rdQ(1.0) Max.(1.0)\n",
      "'promotion_last_5years_1.0': float64    Min.(0.0) 1stQ(0.0) Med.(0.0) Mean(0.02) 3rdQ(0.0) Max.(1.0)\n",
      "'sales_IT'                 : float64    Min.(0.0) 1stQ(0.0) Med.(0.0) Mean(0.08) 3rdQ(0.0) Max.(1.0)\n",
      "'sales_RandD'              : float64    Min.(0.0) 1stQ(0.0) Med.(0.0) Mean(0.05) 3rdQ(0.0) Max.(1.0)\n",
      "'sales_accounting'         : float64    Min.(0.0) 1stQ(0.0) Med.(0.0) Mean(0.05) 3rdQ(0.0) Max.(1.0)\n",
      "'sales_hr'                 : float64    Min.(0.0) 1stQ(0.0) Med.(0.0) Mean(0.04) 3rdQ(0.0) Max.(1.0)\n",
      "'sales_management'         : float64    Min.(0.0) 1stQ(0.0) Med.(0.0) Mean(0.04) 3rdQ(0.0) Max.(1.0)\n",
      "'sales_marketing'          : float64    Min.(0.0) 1stQ(0.0) Med.(0.0) Mean(0.05) 3rdQ(0.0) Max.(1.0)\n",
      "'sales_product_mng'        : float64    Min.(0.0) 1stQ(0.0) Med.(0.0) Mean(0.06) 3rdQ(0.0) Max.(1.0)\n",
      "'sales_sales'              : float64    Min.(0.0) 1stQ(0.0) Med.(0.0) Mean(0.27) 3rdQ(1.0) Max.(1.0)\n",
      "'sales_support'            : float64    Min.(0.0) 1stQ(0.0) Med.(0.0) Mean(0.14) 3rdQ(0.0) Max.(1.0)\n",
      "'sales_technical'          : float64    Min.(0.0) 1stQ(0.0) Med.(0.0) Mean(0.18) 3rdQ(0.0) Max.(1.0)\n",
      "'salary_high'              : float64    Min.(0.0) 1stQ(0.0) Med.(0.0) Mean(0.08) 3rdQ(0.0) Max.(1.0)\n",
      "'salary_low'               : float64    Min.(0.0) 1stQ(0.0) Med.(0.0) Mean(0.48) 3rdQ(1.0) Max.(1.0)\n",
      "'salary_medium'            : float64    Min.(0.0) 1stQ(0.0) Med.(0.0) Mean(0.42) 3rdQ(1.0) Max.(1.0)\n",
      "'left'                     : float64    Min.(0.0) 1stQ(0.0) Med.(0.0) Mean(0.23) 3rdQ(0.0) Max.(1.0)\n"
     ]
    }
   ],
   "source": [
    "HR.summary()"
   ]
  },
  {
   "cell_type": "markdown",
   "metadata": {},
   "source": [
    "## 4) Baseline Model\n",
    "\n",
    "In this section we will run the code to prepare the data for the model, the final output will be a function to reset all the data into preparation mode"
   ]
  },
  {
   "cell_type": "code",
   "execution_count": 352,
   "metadata": {},
   "outputs": [],
   "source": [
    "X, y = HR.split(test_size=0.2)"
   ]
  },
  {
   "cell_type": "code",
   "execution_count": 360,
   "metadata": {},
   "outputs": [],
   "source": [
    "def evaluate_LogReg(X_train, y_train, X_test, y_test, \n",
    "                    return_score='F1',\n",
    "                    printout=False):\n",
    "    \"\"\"\n",
    "    Fits a logistic regression with the training set, and evaluates it with \n",
    "    the test set, using Accuracy, F1, Recall or MCC metrics\n",
    "\n",
    "    \"\"\"\n",
    "    lr = LogisticRegression().fit(X_train, y_train)\n",
    "    y_hat = lr.predict(X_test)\n",
    "\n",
    "    accuracy = accuracy_score(y_test, y_hat)\n",
    "    F1 = f1_score(y_test, y_hat)\n",
    "    precision = precision_score(y_test, y_hat)\n",
    "    recall = recall_score(y_test, y_hat)\n",
    "    MCC = matthews_corrcoef(y_test, y_hat)\n",
    "    \n",
    "    if printout is True:\n",
    "        print('Accuracy:', accuracy)\n",
    "        print('F1:', F1)\n",
    "        print('Precision:', precision)\n",
    "        print('Recall:', recall)\n",
    "        print('MCC:', MCC)\n",
    "    \n",
    "    return eval(return_score)"
   ]
  },
  {
   "cell_type": "code",
   "execution_count": 362,
   "metadata": {},
   "outputs": [
    {
     "name": "stdout",
     "output_type": "stream",
     "text": [
      "Accuracy: 0.8793333333333333\n",
      "F1: 0.7154088050314465\n",
      "Precision: 0.7844827586206896\n",
      "Recall: 0.6575144508670521\n",
      "MCC: 0.6436091203639493\n"
     ]
    },
    {
     "data": {
      "text/plain": [
       "0.7154088050314465"
      ]
     },
     "execution_count": 362,
     "metadata": {},
     "output_type": "execute_result"
    }
   ],
   "source": [
    "baselinemodel = LogisticRegression().fit(X.train, y.train)\n",
    "pred_baseline = baselinemodel.predict(X.test)\n",
    "\n",
    "random_oversample = evaluate_LogReg(X.train, y.train, X.test, y.test, printout=True)"
   ]
  },
  {
   "cell_type": "code",
   "execution_count": 20,
   "metadata": {},
   "outputs": [
    {
     "data": {
      "text/html": [
       "<div>\n",
       "<style scoped>\n",
       "    .dataframe tbody tr th:only-of-type {\n",
       "        vertical-align: middle;\n",
       "    }\n",
       "\n",
       "    .dataframe tbody tr th {\n",
       "        vertical-align: top;\n",
       "    }\n",
       "\n",
       "    .dataframe thead th {\n",
       "        text-align: right;\n",
       "    }\n",
       "</style>\n",
       "<table border=\"1\" class=\"dataframe\">\n",
       "  <thead>\n",
       "    <tr style=\"text-align: right;\">\n",
       "      <th></th>\n",
       "      <th>satisfaction_level</th>\n",
       "      <th>last_evaluation</th>\n",
       "      <th>number_project</th>\n",
       "      <th>average_montly_hours</th>\n",
       "      <th>time_spend_company</th>\n",
       "      <th>Work_accident</th>\n",
       "      <th>left</th>\n",
       "      <th>promotion_last_5years</th>\n",
       "    </tr>\n",
       "  </thead>\n",
       "  <tbody>\n",
       "    <tr>\n",
       "      <td>0</td>\n",
       "      <td>0.38</td>\n",
       "      <td>0.53</td>\n",
       "      <td>2.0</td>\n",
       "      <td>157.0</td>\n",
       "      <td>mid</td>\n",
       "      <td>0.0</td>\n",
       "      <td>1.0</td>\n",
       "      <td>0.0</td>\n",
       "    </tr>\n",
       "    <tr>\n",
       "      <td>1</td>\n",
       "      <td>0.80</td>\n",
       "      <td>0.86</td>\n",
       "      <td>5.0</td>\n",
       "      <td>262.0</td>\n",
       "      <td>high</td>\n",
       "      <td>0.0</td>\n",
       "      <td>1.0</td>\n",
       "      <td>0.0</td>\n",
       "    </tr>\n",
       "    <tr>\n",
       "      <td>2</td>\n",
       "      <td>0.11</td>\n",
       "      <td>0.88</td>\n",
       "      <td>7.0</td>\n",
       "      <td>272.0</td>\n",
       "      <td>mid</td>\n",
       "      <td>0.0</td>\n",
       "      <td>1.0</td>\n",
       "      <td>0.0</td>\n",
       "    </tr>\n",
       "  </tbody>\n",
       "</table>\n",
       "</div>"
      ],
      "text/plain": [
       "   satisfaction_level  last_evaluation  number_project  average_montly_hours  \\\n",
       "0                0.38             0.53             2.0                 157.0   \n",
       "1                0.80             0.86             5.0                 262.0   \n",
       "2                0.11             0.88             7.0                 272.0   \n",
       "\n",
       "  time_spend_company  Work_accident  left  promotion_last_5years  \n",
       "0                mid            0.0   1.0                    0.0  \n",
       "1               high            0.0   1.0                    0.0  \n",
       "2                mid            0.0   1.0                    0.0  "
      ]
     },
     "execution_count": 20,
     "metadata": {},
     "output_type": "execute_result"
    }
   ],
   "source": [
    "HR.discretize('time_spend_company', [(0, 2),(2, 5),(5, 10)], category_names=['low', 'mid', 'high'])\n",
    "\n",
    "HR.numerical.head(3)"
   ]
  },
  {
   "cell_type": "code",
   "execution_count": null,
   "metadata": {},
   "outputs": [],
   "source": []
  }
 ],
 "metadata": {
  "kernelspec": {
   "display_name": "Python 3",
   "language": "python",
   "name": "python3"
  },
  "language_info": {
   "codemirror_mode": {
    "name": "ipython",
    "version": 3
   },
   "file_extension": ".py",
   "mimetype": "text/x-python",
   "name": "python",
   "nbconvert_exporter": "python",
   "pygments_lexer": "ipython3",
   "version": "3.7.4"
  }
 },
 "nbformat": 4,
 "nbformat_minor": 2
}
